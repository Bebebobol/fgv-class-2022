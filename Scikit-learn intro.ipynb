{
 "cells": [
  {
   "cell_type": "code",
   "execution_count": null,
   "id": "fresh-congress",
   "metadata": {},
   "outputs": [],
   "source": [
    "from sklearn.ensemble import RandomForestClassifier\n",
    "clf = RandomForestClassifier(random_state=0)\n",
    "\n",
    "# 2 samples, 3 features\n",
    "X = [[ 1,  2,  3],\n",
    "     [11, 12, 13]]\n",
    "\n",
    "# labels\n",
    "y = [0, 1]\n",
    "\n",
    "# train model\n",
    "clf.fit(X, y)\n",
    "\n",
    "# unseen data\n",
    "Z = [[ 4,  5,  6], \n",
    "     [14, 15, 16]]\n",
    "\n",
    "# make a prediction\n",
    "clf.predict(Z)"
   ]
  },
  {
   "cell_type": "code",
   "execution_count": null,
   "id": "afraid-gallery",
   "metadata": {},
   "outputs": [],
   "source": [
    "from sklearn.preprocessing import Binarizer\n",
    "X = [[0.5, 5.0, 0.2],\n",
    "     [0.1, 1.0, 0.3],\n",
    "     [0.7, 0.2, 0.4],\n",
    "     [0.4, 3.0, 0.3]]\n",
    "\n",
    "# binarize the matrix\n",
    "Binarizer(threshold=0.3).fit_transform(X)"
   ]
  },
  {
   "cell_type": "code",
   "execution_count": null,
   "id": "cathedral-windows",
   "metadata": {},
   "outputs": [],
   "source": [
    "from sklearn.datasets import make_regression\n",
    "from sklearn.preprocessing import StandardScaler\n",
    "from sklearn.linear_model import LinearRegression\n",
    "from sklearn.model_selection import train_test_split"
   ]
  },
  {
   "cell_type": "code",
   "execution_count": null,
   "id": "blessed-thong",
   "metadata": {},
   "outputs": [],
   "source": [
    "from sklearn.datasets import make_regression\n",
    "from sklearn.preprocessing import StandardScaler\n",
    "from sklearn.linear_model import LinearRegression\n",
    "from sklearn.model_selection import train_test_split\n",
    "from sklearn.metrics import mean_squared_error\n",
    "\n",
    "# generate dummy regression data\n",
    "X, y = make_regression(n_samples=1000, random_state=0)\n",
    "\n",
    "# train test split\n",
    "X_train, X_test, y_train, y_test = train_test_split(X, y, random_state=0)\n",
    "\n",
    "# transform training set\n",
    "X_train_scaled = StandardScaler().fit_transform(X_train)\n",
    "\n",
    "# create and train a model\n",
    "lr = LinearRegression()\n",
    "lr.fit(X_train_scaled, y_train)\n",
    "\n",
    "# transform testing set\n",
    "X_test_scaled = StandardScaler().fit_transform(X_test)\n",
    "pred = lr.predict(X_test_scaled)\n",
    "\n",
    "# evaluate the model\n",
    "mean_squared_error(pred, y_test)"
   ]
  },
  {
   "cell_type": "code",
   "execution_count": null,
   "id": "surprised-selection",
   "metadata": {},
   "outputs": [],
   "source": [
    "from sklearn.preprocessing import StandardScaler\n",
    "from sklearn.linear_model import LogisticRegression\n",
    "from sklearn.pipeline import make_pipeline\n",
    "from sklearn.datasets import load_iris\n",
    "from sklearn.model_selection import train_test_split\n",
    "from sklearn.metrics import accuracy_score\n",
    "\n",
    "# create a pipeline object\n",
    "pipe = make_pipeline(\n",
    "    StandardScaler(),\n",
    "    LogisticRegression()\n",
    ")\n",
    "\n",
    "# load the iris dataset and split it into train and test sets\n",
    "X, y = load_iris(return_X_y=True)\n",
    "X_train, X_test, y_train, y_test = train_test_split(X, y, random_state=0)\n",
    "\n",
    "# fit the whole pipeline\n",
    "pipe.fit(X_train, y_train)\n",
    "\n",
    "# we can now use it like any other estimator\n",
    "accuracy_score(pipe.predict(X_test), y_test)"
   ]
  },
  {
   "cell_type": "code",
   "execution_count": null,
   "id": "favorite-speech",
   "metadata": {},
   "outputs": [],
   "source": [
    "from sklearn.datasets import make_regression\n",
    "from sklearn.linear_model import LinearRegression\n",
    "from sklearn.model_selection import cross_validate\n",
    "\n",
    "X, y = make_regression(n_samples=1000, random_state=0)\n",
    "lr = LinearRegression()\n",
    "\n",
    "result = cross_validate(lr, X, y)  # defaults to 5-fold CV\n",
    "result['test_score']  # r_squared score is high because dataset is easy"
   ]
  },
  {
   "cell_type": "markdown",
   "id": "62b4a24b-02f9-4021-b2be-4b1f29fcadb7",
   "metadata": {},
   "source": [
    "## Making a custom estimator and transformer\n",
    "\n",
    "A very important way to interact with scikit-learn is by creating classes that implement compatible APIs.\n",
    "\n",
    "Let's see a trivial example of a simple estimator that learns the mean from a 1-dimensional dataset, and \"predicts\" by adding or subtracting the mean (which is decided by a parameter)"
   ]
  },
  {
   "cell_type": "code",
   "execution_count": null,
   "id": "30180c01-a6d7-42e9-89bf-f90d77090f9b",
   "metadata": {},
   "outputs": [],
   "source": [
    "from sklearn.base import BaseEstimator\n",
    "from sklearn.utils.estimator_checks import check_estimator\n",
    "from sklearn.utils.validation import check_X_y, check_array, check_is_fitted\n",
    "\n",
    "\n",
    "class OneDimensionalMeanRegressor(BaseEstimator):\n",
    "    \n",
    "    def __init__(self, operator='sum'):\n",
    "        self.operator = operator\n",
    "        \n",
    "    def fit(self, X, y):\n",
    "        X, y = check_X_y(X, y)\n",
    "        \n",
    "        self.n_features_in_ = X.shape[1]\n",
    "        \n",
    "        self.X_ = X\n",
    "        \n",
    "        self.mean_ = X.mean()\n",
    "        \n",
    "        return self\n",
    "    \n",
    "    def predict(self, X):\n",
    "        check_is_fitted(self)\n",
    "        \n",
    "        X = check_array(X)\n",
    "        \n",
    "        r = None\n",
    "        if self.operator == 'sum':\n",
    "            r = X + self.mean_\n",
    "        else:\n",
    "            r = X - self.mean_\n",
    "            \n",
    "        return r"
   ]
  },
  {
   "cell_type": "code",
   "execution_count": null,
   "id": "2b232255-d1ce-4c6c-b3b8-9b9165772b26",
   "metadata": {},
   "outputs": [],
   "source": [
    "import numpy as np\n",
    "rng = np.random.default_rng()\n",
    "X = rng.random(size=100)[:,np.newaxis]\n",
    "y = np.zeros(100)\n",
    "\n",
    "X_train, X_test, y_train, y_test = train_test_split(X, y, random_state=0)"
   ]
  },
  {
   "cell_type": "code",
   "execution_count": null,
   "id": "a272097e-1bbf-42c4-92c0-2d4177cedaa7",
   "metadata": {},
   "outputs": [],
   "source": [
    "odmr = OneDimensionalMeanRegressor(operator='sub')"
   ]
  },
  {
   "cell_type": "code",
   "execution_count": null,
   "id": "fe5bf2c2-7bef-4548-96e0-5717b3cd7f1e",
   "metadata": {},
   "outputs": [],
   "source": [
    "odmr.fit(X, y).predict(X_test)"
   ]
  },
  {
   "cell_type": "code",
   "execution_count": null,
   "id": "675a3a08-69d4-411a-b24c-3f3cd06d7f97",
   "metadata": {},
   "outputs": [],
   "source": [
    "odmr.get_params()"
   ]
  },
  {
   "cell_type": "code",
   "execution_count": null,
   "id": "55264077-05f8-41f0-b417-c42692d43d3b",
   "metadata": {},
   "outputs": [],
   "source": [
    "check_estimator(odmr)"
   ]
  }
 ],
 "metadata": {
  "kernelspec": {
   "display_name": "Python 3 (ipykernel)",
   "language": "python",
   "name": "python3"
  },
  "language_info": {
   "codemirror_mode": {
    "name": "ipython",
    "version": 3
   },
   "file_extension": ".py",
   "mimetype": "text/x-python",
   "name": "python",
   "nbconvert_exporter": "python",
   "pygments_lexer": "ipython3",
   "version": "3.10.2"
  }
 },
 "nbformat": 4,
 "nbformat_minor": 5
}
