{
 "cells": [
  {
   "cell_type": "markdown",
   "id": "f4208d34",
   "metadata": {},
   "source": [
    "# Lab 04 -- Polynomial fitting and building a manual toolkit\n",
    "\n",
    "In this lab, you will implement a machine learning pipeline that will:\n",
    "\n",
    "* load data from a file\n",
    "* visualize it\n",
    "* divide it into training and testing\n",
    "* perform model selection using cross validation\n",
    "\n",
    "upon inspecting the cross validation performance, you will need to \n",
    "\n",
    "* train and test the selected model\n",
    "* visualize the model alongside the data"
   ]
  },
  {
   "cell_type": "code",
   "execution_count": 1,
   "id": "04b337bb",
   "metadata": {},
   "outputs": [],
   "source": [
    "import pandas as pd\n",
    "import numpy as np\n",
    "import matplotlib.pyplot as plt"
   ]
  },
  {
   "cell_type": "markdown",
   "id": "1c06a7f5",
   "metadata": {},
   "source": [
    "To help you debug your code, here is how we generated the data"
   ]
  },
  {
   "cell_type": "code",
   "execution_count": 2,
   "id": "02c89554",
   "metadata": {},
   "outputs": [
    {
     "data": {
      "image/png": "[encoded data removed]",
      "text/plain": [
       "<Figure size 432x288 with 1 Axes>"
      ]
     },
     "metadata": {
      "needs_background": "light"
     },
     "output_type": "display_data"
    }
   ],
   "source": [
    "np.random.seed(100)\n",
    "x = np.linspace(0,6,200)\n",
    "y_real = np.sin(x)\n",
    "y_noise = np.sin(x) + np.random.normal(size=x.shape,scale=0.5)\n",
    "\n",
    "plt.plot(x, y_real, color='orange', lw=4, label='generating process')\n",
    "plt.scatter(x, y_noise, alpha=0.3, label='data for training')\n",
    "plt.xlabel('x')\n",
    "plt.ylabel('y')\n",
    "plt.legend()\n",
    "plt.show()\n",
    "\n",
    "import os\n",
    "if not os.path.exists('datasets/sin/'):\n",
    "    os.makedirs('datasets/sin/')\n",
    "\n",
    "pd.DataFrame(np.stack([x, y_noise], axis=1), \n",
    "             columns=['x', 'y']).to_csv('datasets/sin/data.csv', index=False)\n",
    "pd.DataFrame(np.stack([x, y_real], axis=1), \n",
    "             columns=['x', 'y']).to_csv('datasets/sin/generating_process.csv', index=False)"
   ]
  },
  {
   "cell_type": "markdown",
   "id": "e01dee4e",
   "metadata": {},
   "source": [
    "# Implementing a machine learning pipeline\n",
    "\n",
    "Below are a series of functions that you will need to implement.\n",
    "\n",
    "Each of these functions has a [doctring](https://www.python.org/dev/peps/pep-0257/#what-is-a-docstring) that describes what the function **should** do. \n",
    "\n",
    "Your job, is to implement it 😃.\n",
    "\n",
    "To get the most out of this lab, try to implement the functions yourself, without relying on scikit-learn implementations unless specified in the docstring."
   ]
  },
  {
   "cell_type": "code",
   "execution_count": 3,
   "id": "67387a6e",
   "metadata": {},
   "outputs": [],
   "source": [
    "def load_dataset(filename):\n",
    "    r\"\"\"Loads a CSV file\n",
    "    \n",
    "    Parameters\n",
    "    ----------\n",
    "    filename : str\n",
    "        The path to the file that will be loaded (In CSV format)\n",
    "    \n",
    "    Returns\n",
    "    -------\n",
    "    pandas.DataFrame\n",
    "        A dataframe with the data, the header will be used as columns\n",
    "        \n",
    "    Notes\n",
    "    -----\n",
    "    This function assumes that the first line of the file is the header\n",
    "    \"\"\"\n",
    "    # your code here (~1 line)"
   ]
  },
  {
   "cell_type": "code",
   "execution_count": 4,
   "id": "e93a310f",
   "metadata": {},
   "outputs": [],
   "source": [
    "def visualize_dataset(data, title=''):\n",
    "    r\"\"\"Plots a one dimensional dataset\n",
    "    \n",
    "    Parameters\n",
    "    ----------\n",
    "    data : pandas.DataFrame\n",
    "        A dataframe containing columns 'x' and 'y'.\n",
    "    title : str, optional\n",
    "        Title of the plot, by default an empty title is added to the plot.\n",
    "    \n",
    "    Notes\n",
    "    -----\n",
    "    the column 'x' from `data` will be used on the x axis of the plot\n",
    "    and the column 'y' will be used on the y axis of the plot.\n",
    "    \n",
    "    'x' and 'y' will be used as labels of the x and y axes respectively.\n",
    "    \"\"\"\n",
    "    # your code here (~5 lines)"
   ]
  },
  {
   "cell_type": "code",
   "execution_count": 5,
   "id": "bffd4513",
   "metadata": {},
   "outputs": [],
   "source": [
    "def data_split(data, test_percentage=0.3, seed=0):\n",
    "    r\"\"\"Splits a dataset into training and testing\n",
    "    \n",
    "    Parameters\n",
    "    ----------\n",
    "    data : pandas.DataFrame\n",
    "        A dataframe containing columns 'x' and 'y'.\n",
    "    test_perventage : float, optional\n",
    "        A value between 0 and 1 that indicates the percentage of \n",
    "        data points in `data` that will be assiged to the test set.\n",
    "        By default, this is 0.3\n",
    "    seed : int, optional\n",
    "        A value used to set the random state for reproducivle results.\n",
    "        0 by default.\n",
    "    \n",
    "    Returns\n",
    "    -------\n",
    "    train, test : pandas.DataFrame, pandas.DataFrame\n",
    "        A tuple of pandas.DataFrame containing the samples for the train \n",
    "        set and test set respectively.\n",
    "    \n",
    "    Notes\n",
    "    -----\n",
    "    A random permutation of the data is used to keep a similar ditribution\n",
    "    in the train and test sets.\n",
    "    \n",
    "    Example\n",
    "    -------\n",
    "    train, test = data_split(data)\n",
    "    \"\"\"\n",
    "    # your code here (~7 lines)"
   ]
  },
  {
   "cell_type": "markdown",
   "id": "5a29c98a",
   "metadata": {},
   "source": [
    "**NOTE:** remember that we are dealing with `pandas.DataFrame` objects.\n",
    "\n",
    "Look at the documentation for [concat](https://pandas.pydata.org/pandas-docs/stable/reference/api/pandas.concat.html)"
   ]
  },
  {
   "cell_type": "code",
   "execution_count": 6,
   "id": "bf722eca",
   "metadata": {},
   "outputs": [],
   "source": [
    "def data_split_folds(data, folds=5):\n",
    "    r\"\"\"Splits a dataset into `fold` folds for cross validation\n",
    "    \n",
    "    Parameters\n",
    "    ----------\n",
    "    data : pandas.DataFrame\n",
    "        A dataframe containing columns 'x' and 'y'.\n",
    "    folds : int, optional\n",
    "        The number of folds to be used in the cross-validation.\n",
    "        5 by default.\n",
    "    \n",
    "    Returns\n",
    "    -------\n",
    "    list_of_tuples : list\n",
    "        A list of (train, test) tuples of pandas.DataFrame, each tuple \n",
    "        contains all the datapoints in `data` split in a different way.\n",
    "    \n",
    "    Notes\n",
    "    -----\n",
    "    If the size of the dataset is not exactly divisible by `folds`, the \n",
    "    last split will have a smaller test set.\n",
    "    \n",
    "    Example\n",
    "    -------\n",
    "    folds = data_split_folds(data)\n",
    "    \"\"\"\n",
    "    # your code here (~12 lines)"
   ]
  },
  {
   "cell_type": "markdown",
   "id": "7eda0e7e",
   "metadata": {},
   "source": [
    "**NOTE:** feel free to use scikit-learn implementations of these three metrics.\n",
    "\n",
    "If you feel confident (or if you arrived to this point with more than 45 minutes before the end of the lab), you should try to implement these yourself."
   ]
  },
  {
   "cell_type": "code",
   "execution_count": 7,
   "id": "c45fec92",
   "metadata": {},
   "outputs": [],
   "source": [
    "from sklearn.metrics import mean_squared_error, mean_absolute_error\n",
    "def rmse(predictions, labels):\n",
    "    r\"\"\"root mean squared error metric\n",
    "    \n",
    "    Parameters\n",
    "    ----------\n",
    "    predictions : numpy.array\n",
    "        an array of predictions\n",
    "    labels : numpy.array\n",
    "        Array of correct values\n",
    "    \n",
    "    Returns\n",
    "    -------\n",
    "    float\n",
    "        The value of rmse between `predictions` and `labels`\n",
    "    \"\"\"\n",
    "    # your code here (~1 line with scikit-learn)\n",
    "\n",
    "def mse(predictions, labels):\n",
    "    r\"\"\"mean squared error metric\n",
    "    \n",
    "    Parameters\n",
    "    ----------\n",
    "    predictions : numpy.array\n",
    "        an array of predictions\n",
    "    labels : numpy.array\n",
    "        Array of correct values\n",
    "    \n",
    "    Returns\n",
    "    -------\n",
    "    float\n",
    "        The value of mse between `predictions` and `labels`\n",
    "    \"\"\"\n",
    "    # your code here (~1 line with scikit-learn)\n",
    "\n",
    "def mae(predictions, labels):\n",
    "    r\"\"\"mean absolute error metric\n",
    "    \n",
    "    Parameters\n",
    "    ----------\n",
    "    predictions : numpy.array\n",
    "        an array of predictions\n",
    "    labels : numpy.array\n",
    "        Array of correct values\n",
    "    \n",
    "    Returns\n",
    "    -------\n",
    "    float\n",
    "        The value of mae between `predictions` and `labels`\n",
    "    \"\"\"\n",
    "    # your code here (~1 line with scikit-learn)"
   ]
  },
  {
   "cell_type": "code",
   "execution_count": 8,
   "id": "62e24e40",
   "metadata": {},
   "outputs": [],
   "source": [
    "def evaluate_cross_validation(folds, models, metrics):\n",
    "    r\"\"\"Trains and evaluates every model in `models` with\n",
    "    every metric in `metrics`\n",
    "    \n",
    "    Parameters\n",
    "    ----------\n",
    "    folds : list of tuples of pandas.DataFrame\n",
    "        Each element of the list must contain a train, and test \n",
    "        dataframe\n",
    "    models : dict \n",
    "        A dictionary with string keys with the names of the models, \n",
    "        and a scikit-learn model as the value\n",
    "    metrics : dict\n",
    "        A dictionary with the name of the metric as the key\n",
    "        and a callable function f(predictions, labels) as the value\n",
    "    \n",
    "    Returns\n",
    "    -------\n",
    "    pandas.DataFrame\n",
    "        A pandas.DataFrame with columns: \n",
    "        \n",
    "        * 'model' (the model name)\n",
    "        * 'metric' (the metric name)\n",
    "        * 'fold' (the fold number)\n",
    "        * 'metric_value' (the metric calculated on the fold's test set)\n",
    "    \"\"\"\n",
    "    # your code here (~11 lines)"
   ]
  },
  {
   "cell_type": "markdown",
   "id": "99513eb6",
   "metadata": {},
   "source": [
    "**NOTE:** implementing `model_comparison` below requires some pandas experience.\n",
    "\n",
    "Look at the documentation of [groupby] and [pivot].\n",
    "\n",
    "***DO NOT WASTE TIME HERE***\n",
    "\n",
    "If you can't implement this one in under 10 minutes ***ASK FOR AN EXPLANATION***\n",
    "or calculate the averages without pandas. The solution will be available next week."
   ]
  },
  {
   "cell_type": "code",
   "execution_count": 9,
   "id": "f3d3eec8",
   "metadata": {},
   "outputs": [],
   "source": [
    "def model_comparison(cross_validation_data):\n",
    "    r\"\"\"For every model, calculates the average of every metric across the folds \n",
    "    \n",
    "    Parameters\n",
    "    ----------\n",
    "    cross_validation_data : pandas.DataFrame\n",
    "        a pandas.DataFrame with the format described in `evaluate_cross_validation`\n",
    "    \n",
    "    Returns\n",
    "    -------\n",
    "    pandas.DataFrame\n",
    "        a dataframe where the rows are the metrics, the columns are the models, \n",
    "        and the values are the average metric for each model across the folds in \n",
    "        `cross_validation_data`\n",
    "    \"\"\"\n",
    "    # your code here (~1 line with pandas)"
   ]
  },
  {
   "cell_type": "code",
   "execution_count": 10,
   "id": "45f81402",
   "metadata": {},
   "outputs": [],
   "source": [
    "def visualize_model(data, model, title=''):\n",
    "    r\"\"\"Plots a dataset alongside a model\n",
    "    \n",
    "    Parameters\n",
    "    ----------\n",
    "    data : pandas.DataFrame\n",
    "        A dataframe containing columns 'x' and 'y'.\n",
    "    model : scikit-learn model\n",
    "        A trained model that can be used to make predictions.\n",
    "    title : str, optional\n",
    "        Title of the plot, by default an empty title is added to the plot.\n",
    "    \n",
    "    Notes\n",
    "    -----\n",
    "    the column 'x' from `data` will be used on the x axis of the plot\n",
    "    and the column 'y' will be used on the y axis of the plot.\n",
    "    \n",
    "    The model will be used to predict a value of y for every value of x\n",
    "    included in `data`, and then it will be plotted as a scatter of points.\n",
    "    \n",
    "    'x' and 'y' will be used as labels of the x and y axes respectively.\n",
    "    \"\"\"\n",
    "    # your code here (~7 lines)"
   ]
  },
  {
   "cell_type": "code",
   "execution_count": 11,
   "id": "33ffea98",
   "metadata": {},
   "outputs": [
    {
     "data": {
      "image/png": "[encoded data removed]",
      "text/plain": [
       "<Figure size 432x288 with 1 Axes>"
      ]
     },
     "metadata": {
      "needs_background": "light"
     },
     "output_type": "display_data"
    },
    {
     "data": {
      "image/png": "[encoded data removed]",
      "text/plain": [
       "<Figure size 432x288 with 1 Axes>"
      ]
     },
     "metadata": {
      "needs_background": "light"
     },
     "output_type": "display_data"
    },
    {
     "data": {
      "image/png": "[encoded data removed]",
      "text/plain": [
       "<Figure size 432x288 with 1 Axes>"
      ]
     },
     "metadata": {
      "needs_background": "light"
     },
     "output_type": "display_data"
    }
   ],
   "source": [
    "from sklearn.pipeline import make_pipeline\n",
    "from sklearn.preprocessing import PolynomialFeatures\n",
    "from sklearn.linear_model import LinearRegression\n",
    "\n",
    "models = {}\n",
    "for degree in range(3, 16, 3):\n",
    "    models[f'Polynomial Fit {degree} degrees'] = make_pipeline(PolynomialFeatures(degree), LinearRegression())\n",
    "\n",
    "metrics = {\n",
    "    'mean squared error': mse, \n",
    "    'root mean squared error': rmse, \n",
    "    'mean absolute error': mae\n",
    "}\n",
    "\n",
    "data = load_dataset('datasets/sin/data.csv')\n",
    "visualize_dataset(data, 'Data')\n",
    "train, test = data_split(data)\n",
    "visualize_dataset(train, 'Training Set')\n",
    "visualize_dataset(test, 'Testing Set')\n",
    "k_folds = data_split_folds(train, 5)\n",
    "cv_data = evaluate_cross_validation(k_folds, models, metrics)\n",
    "model_comp = model_comparison(cv_data)"
   ]
  },
  {
   "cell_type": "code",
   "execution_count": 12,
   "id": "d65112df",
   "metadata": {},
   "outputs": [
    {
     "data": {
      "text/html": [
       "<div>\n",
       "<style scoped>\n",
       "    .dataframe tbody tr th:only-of-type {\n",
       "        vertical-align: middle;\n",
       "    }\n",
       "\n",
       "    .dataframe tbody tr th {\n",
       "        vertical-align: top;\n",
       "    }\n",
       "\n",
       "    .dataframe thead th {\n",
       "        text-align: right;\n",
       "    }\n",
       "</style>\n",
       "<table border=\"1\" class=\"dataframe\">\n",
       "  <thead>\n",
       "    <tr style=\"text-align: right;\">\n",
       "      <th></th>\n",
       "      <th>model</th>\n",
       "      <th>metric</th>\n",
       "      <th>fold</th>\n",
       "      <th>metric_value</th>\n",
       "    </tr>\n",
       "  </thead>\n",
       "  <tbody>\n",
       "    <tr>\n",
       "      <th>0</th>\n",
       "      <td>Polynomial Fit 3 degrees</td>\n",
       "      <td>mean squared error</td>\n",
       "      <td>0</td>\n",
       "      <td>0.487816</td>\n",
       "    </tr>\n",
       "    <tr>\n",
       "      <th>1</th>\n",
       "      <td>Polynomial Fit 3 degrees</td>\n",
       "      <td>root mean squared error</td>\n",
       "      <td>0</td>\n",
       "      <td>0.237964</td>\n",
       "    </tr>\n",
       "    <tr>\n",
       "      <th>2</th>\n",
       "      <td>Polynomial Fit 3 degrees</td>\n",
       "      <td>mean absolute error</td>\n",
       "      <td>0</td>\n",
       "      <td>0.400307</td>\n",
       "    </tr>\n",
       "    <tr>\n",
       "      <th>3</th>\n",
       "      <td>Polynomial Fit 3 degrees</td>\n",
       "      <td>mean squared error</td>\n",
       "      <td>1</td>\n",
       "      <td>0.529388</td>\n",
       "    </tr>\n",
       "    <tr>\n",
       "      <th>4</th>\n",
       "      <td>Polynomial Fit 3 degrees</td>\n",
       "      <td>root mean squared error</td>\n",
       "      <td>1</td>\n",
       "      <td>0.280251</td>\n",
       "    </tr>\n",
       "  </tbody>\n",
       "</table>\n",
       "</div>"
      ],
      "text/plain": [
       "                      model                   metric  fold  metric_value\n",
       "0  Polynomial Fit 3 degrees       mean squared error     0      0.487816\n",
       "1  Polynomial Fit 3 degrees  root mean squared error     0      0.237964\n",
       "2  Polynomial Fit 3 degrees      mean absolute error     0      0.400307\n",
       "3  Polynomial Fit 3 degrees       mean squared error     1      0.529388\n",
       "4  Polynomial Fit 3 degrees  root mean squared error     1      0.280251"
      ]
     },
     "execution_count": 12,
     "metadata": {},
     "output_type": "execute_result"
    }
   ],
   "source": [
    "cv_data.head()"
   ]
  },
  {
   "cell_type": "code",
   "execution_count": 13,
   "id": "437431df",
   "metadata": {},
   "outputs": [
    {
     "data": {
      "text/html": [
       "<div>\n",
       "<style scoped>\n",
       "    .dataframe tbody tr th:only-of-type {\n",
       "        vertical-align: middle;\n",
       "    }\n",
       "\n",
       "    .dataframe tbody tr th {\n",
       "        vertical-align: top;\n",
       "    }\n",
       "\n",
       "    .dataframe thead tr th {\n",
       "        text-align: left;\n",
       "    }\n",
       "\n",
       "    .dataframe thead tr:last-of-type th {\n",
       "        text-align: right;\n",
       "    }\n",
       "</style>\n",
       "<table border=\"1\" class=\"dataframe\">\n",
       "  <thead>\n",
       "    <tr>\n",
       "      <th></th>\n",
       "      <th colspan=\"5\" halign=\"left\">metric_value</th>\n",
       "    </tr>\n",
       "    <tr>\n",
       "      <th>model</th>\n",
       "      <th>Polynomial Fit 12 degrees</th>\n",
       "      <th>Polynomial Fit 15 degrees</th>\n",
       "      <th>Polynomial Fit 3 degrees</th>\n",
       "      <th>Polynomial Fit 6 degrees</th>\n",
       "      <th>Polynomial Fit 9 degrees</th>\n",
       "    </tr>\n",
       "    <tr>\n",
       "      <th>metric</th>\n",
       "      <th></th>\n",
       "      <th></th>\n",
       "      <th></th>\n",
       "      <th></th>\n",
       "      <th></th>\n",
       "    </tr>\n",
       "  </thead>\n",
       "  <tbody>\n",
       "    <tr>\n",
       "      <th>mean absolute error</th>\n",
       "      <td>0.462989</td>\n",
       "      <td>0.477975</td>\n",
       "      <td>0.435064</td>\n",
       "      <td>0.442428</td>\n",
       "      <td>0.445623</td>\n",
       "    </tr>\n",
       "    <tr>\n",
       "      <th>mean squared error</th>\n",
       "      <td>0.560683</td>\n",
       "      <td>0.588814</td>\n",
       "      <td>0.520383</td>\n",
       "      <td>0.533630</td>\n",
       "      <td>0.539952</td>\n",
       "    </tr>\n",
       "    <tr>\n",
       "      <th>root mean squared error</th>\n",
       "      <td>0.321078</td>\n",
       "      <td>0.355446</td>\n",
       "      <td>0.275394</td>\n",
       "      <td>0.289589</td>\n",
       "      <td>0.297232</td>\n",
       "    </tr>\n",
       "  </tbody>\n",
       "</table>\n",
       "</div>"
      ],
      "text/plain": [
       "                                     metric_value                            \\\n",
       "model                   Polynomial Fit 12 degrees Polynomial Fit 15 degrees   \n",
       "metric                                                                        \n",
       "mean absolute error                      0.462989                  0.477975   \n",
       "mean squared error                       0.560683                  0.588814   \n",
       "root mean squared error                  0.321078                  0.355446   \n",
       "\n",
       "                                                                           \\\n",
       "model                   Polynomial Fit 3 degrees Polynomial Fit 6 degrees   \n",
       "metric                                                                      \n",
       "mean absolute error                     0.435064                 0.442428   \n",
       "mean squared error                      0.520383                 0.533630   \n",
       "root mean squared error                 0.275394                 0.289589   \n",
       "\n",
       "                                                  \n",
       "model                   Polynomial Fit 9 degrees  \n",
       "metric                                            \n",
       "mean absolute error                     0.445623  \n",
       "mean squared error                      0.539952  \n",
       "root mean squared error                 0.297232  "
      ]
     },
     "execution_count": 13,
     "metadata": {},
     "output_type": "execute_result"
    }
   ],
   "source": [
    "model_comp"
   ]
  },
  {
   "cell_type": "markdown",
   "id": "9416c9a0",
   "metadata": {},
   "source": [
    "Look at the values in `model_comp` and choose the model that has the best performance in your opinion, and plot below.\n",
    "This is not an exercise anymore, you can simply look at the differences between the models now"
   ]
  },
  {
   "cell_type": "code",
   "execution_count": 14,
   "id": "30d18093",
   "metadata": {},
   "outputs": [
    {
     "name": "stdout",
     "output_type": "stream",
     "text": [
      "Test set performance\n",
      "mean squared error       : 0.491067151586049\n",
      "root mean squared error  : 0.24114694736683567\n",
      "mean absolute error      : 0.39654990700957415\n"
     ]
    },
    {
     "data": {
      "image/png": "[encoded data removed]",
      "text/plain": [
       "<Figure size 432x288 with 1 Axes>"
      ]
     },
     "metadata": {
      "needs_background": "light"
     },
     "output_type": "display_data"
    },
    {
     "data": {
      "image/png": "[encoded data removed]",
      "text/plain": [
       "<Figure size 432x288 with 1 Axes>"
      ]
     },
     "metadata": {
      "needs_background": "light"
     },
     "output_type": "display_data"
    }
   ],
   "source": [
    "best_performance = '' # pick one of the models by the key in the `models` dictionary\n",
    "\n",
    "models[best_performance].fit(train[['x']], train['y'])\n",
    "pred = models[best_performance].predict(test[['x']])\n",
    "print('Test set performance')\n",
    "for name, metric in metrics.items():\n",
    "    print(f\"{name:25}: {metric(pred, test['y'])}\")\n",
    "visualize_model(train, models[best_performance], 'Train')\n",
    "visualize_model(test, models[best_performance], 'Test')"
   ]
  }
 ],
 "metadata": {
  "kernelspec": {
   "display_name": "Python 3 (ipykernel)",
   "language": "python",
   "name": "python3"
  },
  "language_info": {
   "codemirror_mode": {
    "name": "ipython",
    "version": 3
   },
   "file_extension": ".py",
   "mimetype": "text/x-python",
   "name": "python",
   "nbconvert_exporter": "python",
   "pygments_lexer": "ipython3",
   "version": "3.10.2"
  }
 },
 "nbformat": 4,
 "nbformat_minor": 5
}
