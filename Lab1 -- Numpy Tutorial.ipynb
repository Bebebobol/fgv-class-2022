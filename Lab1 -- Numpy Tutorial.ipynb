{
 "cells": [
  {
   "cell_type": "markdown",
   "id": "aeea07f7-ec1f-4e46-846c-f0bdfb3ea8f6",
   "metadata": {
    "tags": []
   },
   "source": [
    "# NumPy/SciPy Tutorial\n",
    "\n",
    "In this lab session, we'll go through [NumPy](https://numpy.org/), and a bit of [SciPy](https://scipy.org/). When you complete this notebook, you'll have a better understanding of most of the use cases that you'll need througout the course.\n",
    "\n",
    "* this is a self-paced tutorial, but make sure you take some time on this week to get familiar with it. \n",
    "* If you find any part of this tutorial complicated, please prepare a list of questions for the beginning of the next lab. \n",
    "* I am aware that this may seem obvious and boring, but the answer to any question is probably contained in the [NumPy User Guide](https://numpy.org/doc/stable/user/index.html) and [Documentation](https://numpy.org/doc/stable/). Of course, you also need the [SciPy User Guide](https://scipy.github.io/devdocs/tutorial/index.html#user-guide) and [Documentation](https://scipy.github.io/devdocs/index.html)\n",
    "* If you're serious about data science in Python, I strongly suggest going through the [NumPy Fundamentals](https://numpy.org/doc/stable/user/basics.html#numpy-fundamentals) at least once in your career. In fact, this very tutorial is mostly a condensed version of the Numpy fundamentals plus some SciPy, links to the relevant documentation pages are provided everywhere in the tutorial if you feel like having a deep dive into NumPy.\n",
    "\n",
    "## Table of contents:\n",
    "\n",
    "1. [The ndarray object](#The-ndarray-object)\n",
    "2. [Array indexing](#Array-indexing)\n",
    "3. [Broadcasting](#Broadcasting)\n",
    "4. [Random number generators](#Random-number-generators)\n",
    "5. [Copies and Views](#Copies-and-Views)\n",
    "6. [Data Types](#Data-Types)\n",
    "\n",
    "Before we start, let's import the libraries we'll need throughout the course, as well as some utility functions that will help us visualize what's going on."
   ]
  },
  {
   "cell_type": "code",
   "execution_count": null,
   "id": "055882e4-53fb-4b74-bd00-9cd67f1ad445",
   "metadata": {},
   "outputs": [],
   "source": [
    "import numpy as np\n",
    "from tutorials.utils import *"
   ]
  },
  {
   "cell_type": "markdown",
   "id": "df8d818c-c743-429a-ba70-2172d9d32994",
   "metadata": {
    "tags": []
   },
   "source": [
    "## The ndarray object\n",
    "\n",
    "In this section we will interact with (arguably) the most popular data structure in data science. The [Numpy ndarray](https://numpy.org/doc/stable/reference/generated/numpy.ndarray.html). "
   ]
  },
  {
   "cell_type": "markdown",
   "id": "eeea6005-ac02-4202-b90f-393f4142bfe8",
   "metadata": {},
   "source": [
    "### Creating a new array\n",
    "\n",
    "The most intuitive way to create a numpy array is from an existing Python list or tuple. We do this by calling [`np.array`](https://numpy.org/doc/stable/reference/generated/numpy.array.html) and passing a list to the function. The parameter can be any \"array-like\" object in python. To understand what is and isn't \"array-like\", check the documentation."
   ]
  },
  {
   "cell_type": "code",
   "execution_count": null,
   "id": "4a24dd78-66c2-41e5-808f-df88205f318d",
   "metadata": {},
   "outputs": [],
   "source": [
    "a = np.array([1,2,3,4,5])\n",
    "a"
   ]
  },
  {
   "cell_type": "markdown",
   "id": "8a111eac-39bd-47ae-8c19-ff2f16366d91",
   "metadata": {},
   "source": [
    "Numpy also provides functions for intrinsic array creation. Here we look at some options that will be very useful throughout the course, but there are many more. The first group is to create "
   ]
  },
  {
   "cell_type": "code",
   "execution_count": null,
   "id": "05d46142-321b-4efd-a0d0-ced729897832",
   "metadata": {},
   "outputs": [],
   "source": [
    "a = np.empty(5) # array of uninitialized data\n",
    "print(f\"np.empty: {a}\")\n",
    "\n",
    "a = np.zeros(5) # array initialized with zeros\n",
    "print(f\"np.zeros: {a}\")\n",
    "\n",
    "a = np.arange(5) # array initialized with zeros\n",
    "print(f\"np.arange: {a}\")\n",
    "\n",
    "a = np.eye(5, 8) # array with ones in the \"main\" diagonal\n",
    "print(f\"np.eye:\\n{a}\")\n",
    "\n",
    "a = np.identity(5) # array with ones in the main diagonal\n",
    "print(f\"np.identity:\\n{a}\")"
   ]
  },
  {
   "cell_type": "markdown",
   "id": "9d82a4ab-52c2-44b1-9523-7ec31927c5bf",
   "metadata": {},
   "source": [
    "We can also create an array from existing arrays:\n",
    "\n",
    "Let's start with 2 arrays created from lists"
   ]
  },
  {
   "cell_type": "code",
   "execution_count": null,
   "id": "9f6ad0c8-8b6b-4202-aa64-e79dcb94f95f",
   "metadata": {},
   "outputs": [],
   "source": [
    "a = np.arange(10)\n",
    "b = np.arange(10, 20)\n",
    "\n",
    "c = np.vstack([a, b])\n",
    "print(f\"np.vstack:\\n{c}\")\n",
    "\n",
    "d = np.hstack([a, b])\n",
    "print(f\"np.hstack:\\n{d}\")\n",
    "\n",
    "e = np.array(a, ndmin=3)\n",
    "print(f\"np.array with ndim=3:\\n{e}\")"
   ]
  },
  {
   "cell_type": "markdown",
   "id": "b71758ca-3008-4382-8f26-72594caab83a",
   "metadata": {},
   "source": [
    "Finally, we can mutate existing arrays:"
   ]
  },
  {
   "cell_type": "code",
   "execution_count": null,
   "id": "8701ca07-dbe1-444f-ad1e-7ef2b92688cd",
   "metadata": {},
   "outputs": [],
   "source": [
    "c_t = c.transpose()\n",
    "print(f\"c.transpose():\\n{c_t}\")\n",
    "\n",
    "D = np.diag(a)\n",
    "print(f\"np.diag(a):\\n{D}\")\n",
    "\n",
    "f = np.diag(D)\n",
    "print(f\"np.diag(D):\\n{f}\")\n",
    "\n"
   ]
  },
  {
   "cell_type": "markdown",
   "id": "ad342695-3a1a-49cf-a537-0f40c81dda5b",
   "metadata": {
    "tags": []
   },
   "source": [
    "### Array attributes and methods\n",
    "\n",
    "\n",
    "The ndarray data structure has some convenient attributes and methods we can use to interact with this array in a way that is way more convenient, safer, and faster than implementing our own structure. For example, we use the `shape` atrribute to get the cardinality of each dimension of the array, the `ndim` attribute to tell how many dimensions the array has, and the `T` attribute to get a transposed version of the array:"
   ]
  },
  {
   "cell_type": "code",
   "execution_count": null,
   "id": "31f10d20-70ea-47a4-be02-c6c32d71a669",
   "metadata": {},
   "outputs": [],
   "source": [
    "print(f\"shape: {a.shape}\")\n",
    "print(f\"ndim: {a.ndim}\")\n",
    "print(f\"T:\\n{c.T}\")"
   ]
  },
  {
   "cell_type": "markdown",
   "id": "db79d88a-dce2-4270-8d97-46d2806a5ab0",
   "metadata": {},
   "source": [
    "**IMPORTANT: unidimensional vectors in numpy**\n",
    "\n",
    "Notice how the shape of the array is `(10,)`. This means that the array is \n",
    "not a column nor a row vector. This can have some complications when dealing with vector operations. For standard vector algebra, we need to explicitly create a 2D array.\n",
    "\n",
    "numpy's `dot` and `matmul` (or `@` operator) will work with unidimensional arrays by appending or prepending a dimension to the arguments. Let's see some examples"
   ]
  },
  {
   "cell_type": "code",
   "execution_count": null,
   "id": "92c1ac28-066c-48d2-bba7-b5e039e8458c",
   "metadata": {},
   "outputs": [],
   "source": [
    "# weirdness of unidimensional arrays:\n",
    "\n",
    "print(f\"np.array_equal(a, a.T): {np.array_equal(a, a.T)}\")\n",
    "print(f\"np.matmul(a, a.T): {np.matmul(a, a.T)}\")\n",
    "print(f\"np.matmul(a.T, a): {np.matmul(a.T, a)}\")\n",
    "print(f\"np.matmul(a, a): {np.matmul(a, a)}\")\n",
    "\n",
    "# we transform the unidimensional array into a 2D array by adding a new,\n",
    "# empty dimension\n",
    "a_2d = a[:, np.newaxis]\n",
    "\n",
    "print(\"\\n2D array\\n\")\n",
    "\n",
    "print(f\"a_2d.shape: {a_2d.shape}\")\n",
    "print(f\"np.array_equal(a_2d, a_2d.T): {np.array_equal(a_2d, a_2d.T)}\")\n",
    "print(f\"np.matmul(a_2d, a_2d.T):\\n{np.matmul(a_2d, a_2d.T)}\")\n",
    "print(f\"np.matmul(a_2d.T, a_2d): {np.matmul(a_2d.T, a_2d)}\")\n",
    "\n",
    "# this one will generate an error, \n",
    "# but you're encouraged to uncomment and try\n",
    "# print(f\"np.matmul(a_2d, a_2d): {np.matmul(a_2d, a_2d)}\")\n",
    "\n"
   ]
  },
  {
   "cell_type": "markdown",
   "id": "5337d69b-d176-4b74-8bfa-fc6bdf58d088",
   "metadata": {},
   "source": [
    "Other useful methods are aggregations and indices identifiers, here are a couple of useful examples:"
   ]
  },
  {
   "cell_type": "code",
   "execution_count": null,
   "id": "ceab9122-8482-42a9-845b-fa43c9bc319f",
   "metadata": {},
   "outputs": [],
   "source": [
    "# let's start with a new, unsorted array\n",
    "a = np.array([2,6,3,8,9,1,5,7,3])\n",
    "print(f\"original array: {a}\")\n",
    "\n",
    "# get the maximum element\n",
    "print(f\"a.max(): {a.max()}\")\n",
    "\n",
    "# get the index of the maximum element\n",
    "print(f\"a.argmax(): {a.argmax()}\")\n",
    "\n",
    "# get the maximum element\n",
    "print(f\"a.min(): {a.min()}\")\n",
    "\n",
    "# get the index of the maximum element\n",
    "print(f\"a.argmin(): {a.argmin()}\")\n",
    "\n",
    "# get the mean of all values\n",
    "print(f\"a.mean(): {a.mean()}\")\n",
    "\n",
    "# get the sum of all values\n",
    "print(f\"a.sum(): {a.sum()}\")\n",
    "\n",
    "# get the indices that would sort the array\n",
    "print(f\"a.argsort(): {a.argsort()}\")\n",
    "print(f\"a[a.argsort()]: {a[a.argsort()]}\")\n",
    "\n",
    "# get a 2D array with the data from the array\n",
    "print(f\"a.reshape(3,3):\\n{a.reshape(3,3)}\")\n"
   ]
  },
  {
   "cell_type": "markdown",
   "id": "ab1ece34-b5aa-40c6-b508-b69687821cc5",
   "metadata": {
    "tags": []
   },
   "source": [
    "## Array indexing\n",
    "\n",
    "Array indexing in numpy is compatible with the standard Python `my_array[my_selection]` syntax, but allows for more complex indexing and slicing operations in higher dimensions."
   ]
  },
  {
   "cell_type": "markdown",
   "id": "050c2eb6-c23c-4ecf-880b-1bfdc234caa5",
   "metadata": {
    "tags": []
   },
   "source": [
    "### Basic indexing\n",
    "\n",
    "If you've programmed using Python lists before, this way of indexing will feel very natural to you."
   ]
  },
  {
   "cell_type": "markdown",
   "id": "a6ffbd27-3cff-4998-89d7-d5a9364a18d8",
   "metadata": {},
   "source": [
    "#### Single element indexing\n",
    "\n",
    "To get a single element from a unidimensional ndarray, you use the exact same syntax as getting single elements from Python lists:"
   ]
  },
  {
   "cell_type": "code",
   "execution_count": null,
   "id": "2c5d8aca-e36e-4a7f-b65f-66b1d6f9947a",
   "metadata": {},
   "outputs": [],
   "source": [
    "print(f\"original array: {a}\")\n",
    "\n",
    "# get the first element\n",
    "print(f\"first element: {a[0]}\")\n",
    "\n",
    "# get the last element\n",
    "print(f\"last element: {a[-1]}\")\n",
    "\n",
    "# get the second to last element\n",
    "print(f\"second to last element: {a[-2]}\")"
   ]
  },
  {
   "cell_type": "markdown",
   "id": "56c3c7fc-20e5-4760-8e0e-40e8837ef3a1",
   "metadata": {},
   "source": [
    "for 2D arrays, we can use the \"list of lists\" way of indexing, but the \"numpy way\" is to use a tuple, where each element of the tuple indexes a dimension: "
   ]
  },
  {
   "cell_type": "code",
   "execution_count": null,
   "id": "f45e2a65-1710-4331-84e4-5cab45fb5540",
   "metadata": {},
   "outputs": [],
   "source": [
    "a_2d = a.reshape(3, 3)\n",
    "print(f\"2D array:\\n{a_2d}\")\n",
    "\n",
    "# these two notations are equivalent, but the latter is preferred,\n",
    "# especially for higher dimensional arrays\n",
    "print(f\"a_2d[1][1]: {a_2d[1][1]}, a_2d[1, 1]: {a_2d[1,1]}\")\n",
    "\n",
    "# of course, you can use negative indexing to start from the end of each\n",
    "# dimension\n",
    "print(f\"a_2d[1, -1]: {a_2d[1,-1]}\")\n",
    "\n",
    "# Get the first row (as a unidimensional array)\n",
    "print(f\"first row (1D): {a_2d[0]}\")\n",
    "\n",
    "# Get the last column (as a unidimensional array)\n",
    "# the : in the first dimension means \"all elements\" of that dimension\n",
    "print(f\"last column (1D): {a_2d[:,-1]}\")\n",
    "\n",
    "# Get the first row (as a unidimensional array)\n",
    "print(f\"first row (2D): {a_2d[[0]]}\")\n",
    "\n",
    "# Get the last column (as a unidimensional array)\n",
    "# the : in the first dimension means \"all elements\" of that dimension\n",
    "print(f\"last column (2D):\\n{a_2d[:,[-1]]}\")"
   ]
  },
  {
   "cell_type": "markdown",
   "id": "3fef75f3-4c9c-4e0b-ab22-d642b0314516",
   "metadata": {},
   "source": [
    "#### Slicing and striding\n",
    "\n",
    "Slicing in NumPy is also compatible and extends Python's basic concept of slicing to N dimensions. In this tutorial, we're going to work with unidimensional and 2-dimensional arrays, but I strongly encourage you to get familiar with array manipulation in higher dimensions, especially 3-dimensional arrays (often used for colored images), and 4-dimensional arrays (a \"batch\" of colored images). \n",
    "\n",
    "The basic slice is `start:stop:step`. This selects the elements in the array with indices corresponding to `start`, `start + step`, `start + 2 * step`, `...`, `start + m * steps`, where `m` is the maximum integer value of `m` so that `start + m * steps < stop`. By default, `start = 0`, `stop = None`, and `step = 1`.\n",
    "\n",
    "Below we have some common useful examples:"
   ]
  },
  {
   "cell_type": "code",
   "execution_count": null,
   "id": "9a3b1ea0-5af5-4efb-892c-7f43ecfa0ce4",
   "metadata": {},
   "outputs": [],
   "source": [
    "# let's start with a sorted array, where every value matches its index\n",
    "a = np.arange(10)\n",
    "\n",
    "# select every element with an even index\n",
    "print(a[::2])\n",
    "\n",
    "# select every element with an even index\n",
    "print(a[1::2])\n",
    "\n",
    "# reverse the array \n",
    "print(a[::-1])\n",
    "\n",
    "# let's create a bigger 2d array\n",
    "b = np.arange(25).reshape(5, 5)\n",
    "\n",
    "print(f\"original 2D array:\\n{b}\")\n",
    "\n",
    "# get every even row, and all columns\n",
    "print(f\"even rows:\\n{b[::2,:]}\")\n",
    "\n",
    "# get all rows, and every odd column\n",
    "print(f\"odd columns:\\n{b[:,1::2]}\")\n",
    "\n",
    "# get center square\n",
    "print(f\"center square:\\n{b[1:4,1:4]}\")"
   ]
  },
  {
   "cell_type": "markdown",
   "id": "03a6e251-8bb2-48a7-b45c-da993955c6a5",
   "metadata": {
    "tags": []
   },
   "source": [
    "### Advanced indexing\n",
    "\n",
    "On top of the Python slicing, we can use more complex selection objects for indexing. Getting used to all the variants of advanced indexing takes a lot of practice, and it's always useful to have the documentation open in a browser tab nearby.\n",
    "\n",
    "Here I will simply write some examples that I think will be useful during the course."
   ]
  },
  {
   "cell_type": "code",
   "execution_count": null,
   "id": "65f9a89a-ea72-44a8-874f-77a3f17ee107",
   "metadata": {},
   "outputs": [],
   "source": [
    "# let's start with a fresh array\n",
    "a = np.arange(10, 0, -1)\n",
    "print(f\"unidimensional array: {a}\")\n",
    "\n",
    "# we can use an ndarray of integers to make a complex selection of indices, and even repeat the indices:\n",
    "print(f\"integer ndarray: {a[np.array([3, 3, 1, 1, -8, 0])]}\")\n",
    "\n",
    "print(f\"integer array: {a[[3, 3, 1, 1, -8, 0]]}\")"
   ]
  },
  {
   "cell_type": "markdown",
   "id": "736c4bde-dce8-4a55-9ff6-c4292652e8e8",
   "metadata": {},
   "source": [
    "#### Multidimensional indexing"
   ]
  },
  {
   "cell_type": "code",
   "execution_count": null,
   "id": "a958f671-ca19-4197-b9c4-b93543127661",
   "metadata": {},
   "outputs": [],
   "source": [
    "# let's start with a fresh 2-dimensional array\n",
    "a = np.arange(25).reshape(5,5)\n",
    "print(f\"2-dimensional array:\\n{a}\")\n",
    "\n",
    "# let's get the elements at specific coordinates\n",
    "# we simply pass an integer list of the components\n",
    "# to each dimension, so, for elements with coordinates:\n",
    "#     (0, 0)\n",
    "#     (1, 4)\n",
    "#     (1, 2)\n",
    "#     (3, 0)\n",
    "print(f\"elements at specific coordinates: {a[[0, 1, 1, 3], [0, 4, 2, 0]]}\")\n",
    "\n",
    "# if all the elements share the same index along one dimension, we can mix\n",
    "# advanced and simple indexing, so for element with coordinates:\n",
    "#     (0, 1)\n",
    "#     (1, 1)\n",
    "#     (1, 1)\n",
    "#     (3, 1)\n",
    "print(f\"elements at specific rows, same column: {a[[0, 1, 1, 3], 1]}\")\n",
    "\n",
    "# get the corner elements \n",
    "# this example uses broadcasting, which will be explained in a section below\n",
    "# but notice how the we use a 2D column vector to indicate the rows, and \n",
    "# a unidimensional vector to indicate the columns\n",
    "rows = np.array([0, -1]) # first and last\n",
    "columns = np.array([0, -1]) # first and last\n",
    "print(f\"corner elements:\\n{a[rows[:, np.newaxis], columns]}\")"
   ]
  },
  {
   "cell_type": "markdown",
   "id": "6b1a32b6-0e59-4b8f-a8d6-2d0a97e34013",
   "metadata": {},
   "source": [
    "#### Boolean indexing\n",
    "\n",
    "One of the most useful ways to index a multidimensional array is the boolean index. It allows us to select elements that hold true when subject to a condition. "
   ]
  },
  {
   "cell_type": "code",
   "execution_count": null,
   "id": "31b0de97-8bec-4763-8667-6dff7aea3d32",
   "metadata": {},
   "outputs": [],
   "source": [
    "# let's keep the same array from the previous example:\n",
    "print(f\"2-dimensional array:\\n{a}\")\n",
    "\n",
    "# let's get all elements that are below 7\n",
    "idx = a < 7\n",
    "print(f\"indices below 7:\\n{idx}\")\n",
    "\n",
    "print(f\"elements below 7:\\n{a[idx]}\")"
   ]
  },
  {
   "cell_type": "markdown",
   "id": "b605418d-91d3-49af-8210-c8afae4e0fd0",
   "metadata": {},
   "source": [
    "To demonstrate how useful boolean indexes are, let's look at a practical example:\n",
    "\n",
    "We have the image of a dog with a white background. \n",
    "\n",
    "Let's pretend that we need to save some space in our hard-drive, and \n",
    "we want to keep only the relevant part of this image."
   ]
  },
  {
   "cell_type": "code",
   "execution_count": null,
   "id": "c68aabd5-d538-48a7-b109-27002044d3bb",
   "metadata": {},
   "outputs": [],
   "source": [
    "# Let's load the image of a dog in grayscale\n",
    "dog = get_dog_image()\n",
    "\n",
    "# the representation of this image is, in fact, \n",
    "# a 2-dimensional ndarray of integers\n",
    "dog"
   ]
  },
  {
   "cell_type": "code",
   "execution_count": null,
   "id": "dadea336-507b-4397-8529-76abceea0c50",
   "metadata": {},
   "outputs": [],
   "source": [
    "# Let's plot the image, just to see what we're dealing with\n",
    "plot_image(dog)"
   ]
  },
  {
   "cell_type": "code",
   "execution_count": null,
   "id": "3c54a0ab-288d-43e1-8e00-e3a0180e57a1",
   "metadata": {},
   "outputs": [],
   "source": [
    "# If you look closely to the values in the array, we can see that \n",
    "# the higher the value, the whiter the pixel. \n",
    "# We can use this fact to figure out the silhouette of the dog:\n",
    "\n",
    "white_pixels = dog > 250\n",
    "\n",
    "# we can print the mask to see if we're right\n",
    "plot_image(white_pixels)"
   ]
  },
  {
   "cell_type": "code",
   "execution_count": null,
   "id": "aa562f63-a002-4eb3-af65-16d8a3244e5e",
   "metadata": {},
   "outputs": [],
   "source": [
    "# Now that we have a clear idea of where the dog is, \n",
    "# we can select just the rectangle that contains a part of the silhouette\n",
    "\n",
    "# we can achieve this using boolean conditions again.\n",
    "\n",
    "# our mask now has True where the pixel represents the background, \n",
    "# and false if the image represents the dog. This is counterintuitive, \n",
    "# we can flip this aroun\n",
    "\n",
    "silhoutette = ~white_pixels\n",
    "\n",
    "plot_image(silhoutette)"
   ]
  },
  {
   "cell_type": "code",
   "execution_count": null,
   "id": "2c5fd20f-3899-4242-b989-0ecd9f139ee8",
   "metadata": {},
   "outputs": [],
   "source": [
    "# now, we want to keep only the rows and columns where at least one pixel \n",
    "# contributes to the silhouette.\n",
    "\n",
    "rows = silhoutette.any(axis=1)\n",
    "cols = silhoutette.any(axis=0)\n",
    "\n",
    "cropped_dog = dog[rows][:, cols]\n",
    "plot_image(cropped_dog)"
   ]
  },
  {
   "cell_type": "markdown",
   "id": "a52ddc12-1d25-4cfd-85d0-e950bfcfc151",
   "metadata": {
    "tags": []
   },
   "source": [
    "## Broadcasting\n",
    "\n",
    "Broadcasting describes how NumPy treats arrays with different shapes during some operations.\n",
    "\n",
    "Normally, operators in NumPy work in an element-wise fashion, which requires that the dimensionality of the operands to be the same. This limitation is removed when the operands have \"broadcastable\" shapes. \n",
    "\n",
    "The simplest form of broadcasting is multiplying a scalar by a unidimensional array:"
   ]
  },
  {
   "cell_type": "code",
   "execution_count": null,
   "id": "a98035a7-47fc-4582-be84-bffa7144c889",
   "metadata": {},
   "outputs": [],
   "source": [
    "a = np.arange(10)\n",
    "print(f\"a: {a}\")\n",
    "\n",
    "b = 5\n",
    "print(f\"b: {a}\")\n",
    "\n",
    "print(f\"a * b: {a * b}\")\n",
    "\n",
    "c = np.full_like(a, b)\n",
    "print(f\"array full of scalar c: {c}\")\n",
    "\n",
    "print(f\"a * c: {a * c}\")"
   ]
  },
  {
   "cell_type": "markdown",
   "id": "5a160108-550e-4c4c-86a6-eef17b72618c",
   "metadata": {},
   "source": [
    "In the example above, we did not need to manually repeat the scalar to multiply it. NumPy takes care of such expansion under the hood.\n",
    "\n",
    "Let's see a less trivial example:"
   ]
  },
  {
   "cell_type": "code",
   "execution_count": null,
   "id": "9fee079e-d120-40e0-b46c-01c1886fcb97",
   "metadata": {},
   "outputs": [],
   "source": [
    "a = np.arange(25).reshape(5,5)\n",
    "print(f\"a:\\n{a}\")\n",
    "\n",
    "b = np.arange(5)\n",
    "print(f\"b:\\n{b}\")\n",
    "\n",
    "print(f\"a + b:\\n{a + b}\")\n",
    "\n",
    "c = b[:, np.newaxis]\n",
    "\n",
    "print(f\"c:\\n{c}\")\n",
    "\n",
    "print(f\"a + c:\\n{a + c}\")\n"
   ]
  },
  {
   "cell_type": "markdown",
   "id": "2a3e126c-4646-4cec-a6ac-41bc3fa0ddeb",
   "metadata": {},
   "source": [
    "In the example above, we summed a unidimensional array, which was broadcast along the rows of the 2-dimensional array, and for each row, the element-wise sum was performed.\n",
    "\n",
    "Then, we added a new dimension to the smaller array, and turned into a column vector, that was broadcasted over the columns of the bigger array.\n",
    "\n",
    "Let's look at an example where both arrays will be broadcast:"
   ]
  },
  {
   "cell_type": "code",
   "execution_count": null,
   "id": "6093c652-233d-4573-b7b4-8ee8fe49f197",
   "metadata": {},
   "outputs": [],
   "source": [
    "b + c"
   ]
  },
  {
   "cell_type": "markdown",
   "id": "a33ca967-02b5-415e-ac83-e632ca76ccfe",
   "metadata": {},
   "source": [
    "In this example, we're summing a unidimensional `(5,)` vector with a column `(1, 5)` vector, resulting in a `(5,5)` matrix that is the outer product of the 2 vectors."
   ]
  },
  {
   "cell_type": "markdown",
   "id": "d49177f0-9496-477d-bee5-ccf5902e3ff5",
   "metadata": {},
   "source": [
    "## Random number generators\n",
    "\n",
    "In the [array creation](#Creating-a-new-array) section above, we saw an example of how to create an uninitialized array with `np.empty`. While this might seem enough to create a random array for rapid prototyping, this is note quite true.\n",
    "\n",
    "In most cases when we deal with random number generators, some level of control is useful and often necessary to achieve repeatable results.\n",
    "\n",
    "This matter is so important that a massive effort was put into creating [`numpy.random`](https://numpy.org/doc/stable/reference/random/index.html): the NumPy module of random number routines.\n",
    "\n",
    "Below some useful examples using the new Random Generator API"
   ]
  },
  {
   "cell_type": "code",
   "execution_count": null,
   "id": "97681c34-b222-4263-a000-560bbd4c19fe",
   "metadata": {},
   "outputs": [],
   "source": [
    "# we import the default random number generator\n",
    "from numpy.random import default_rng"
   ]
  },
  {
   "cell_type": "markdown",
   "id": "ef94538b-8afc-4fa2-97a2-b409957e9251",
   "metadata": {},
   "source": [
    "by default, this uses a fresh unpredictable seed. Run this cell many times and you will generate a different set of mnatrices every time"
   ]
  },
  {
   "cell_type": "code",
   "execution_count": null,
   "id": "4d008693-51c1-4322-baa7-7abd9c0ceb6e",
   "metadata": {},
   "outputs": [],
   "source": [
    "\n",
    "rng = default_rng() \n",
    "\n",
    "a = rng.random((5,5))\n",
    "b = rng.random((5,5))\n",
    "c = rng.random((5,5))\n",
    "print(f\"a:\\n{a}\")\n",
    "print(f\"b:\\n{b}\")\n",
    "print(f\"c:\\n{c}\")"
   ]
  },
  {
   "cell_type": "markdown",
   "id": "64051a8c-3df8-40fc-beb1-8b8f66e317a2",
   "metadata": {},
   "source": [
    "If we sed a known seed, we can make sure we're using the same data.\n",
    "This is extremely usfeul for prototyping!\n"
   ]
  },
  {
   "cell_type": "code",
   "execution_count": null,
   "id": "09020582-2d83-4941-9d84-905c62977f4e",
   "metadata": {},
   "outputs": [],
   "source": [
    "rng = default_rng(0) \n",
    "\n",
    "a = rng.random((5,5))\n",
    "b = rng.random((5,5))\n",
    "c = rng.random((5,5))\n",
    "print(f\"a:\\n{a}\")\n",
    "print(f\"b:\\n{b}\")\n",
    "print(f\"c:\\n{c}\")"
   ]
  },
  {
   "cell_type": "markdown",
   "id": "8b326fa1-7700-40e5-9336-392ce367e931",
   "metadata": {},
   "source": [
    "Among the most useful tools is to draw sample from a known distribution. Extremely useful to generate test data."
   ]
  },
  {
   "cell_type": "code",
   "execution_count": null,
   "id": "0ad5e0a5-5941-4205-9c75-c3ac211f77ce",
   "metadata": {},
   "outputs": [],
   "source": [
    "# Sample some data from the normal distribution\n",
    "rng = default_rng(0)\n",
    "\n",
    "a = rng.normal(size=10000)\n",
    "plot_distribution(a, title=\"Normal distribution\")\n",
    "\n",
    "a = rng.power(50, size=10000)\n",
    "plot_distribution(a, title=\"Power distribution\")\n",
    "\n",
    "a = rng.uniform(size=10000)\n",
    "plot_distribution(a, title=\"Uniform distribution\")\n",
    "\n"
   ]
  },
  {
   "cell_type": "markdown",
   "id": "9238b25a-dc1d-4e93-960e-65e4e016a358",
   "metadata": {},
   "source": [
    "## Copies and Views\n",
    "\n",
    "The ndarray is ultimately a data structure, and it consists mainly of two parts: \n",
    "* a data buffer with the actual elements of the array\n",
    "* metadata that contains information about the data buffer, such as the data type, strides, and all the information necessary to manipulate the array"
   ]
  },
  {
   "cell_type": "markdown",
   "id": "2f822b07-080e-438c-93c6-6eadc97ac08c",
   "metadata": {},
   "source": [
    "### Views\n",
    "\n",
    "Many NumPy operations can be achieved by simply modifying some of the metadata, but using the same underlying data buffer. This can save memory and ensures good performance, but it is important to be aware that we're not dealing with a copy of the values to avoid bugs. \n",
    "\n",
    "Let's test this:"
   ]
  },
  {
   "cell_type": "code",
   "execution_count": null,
   "id": "2bff0d6f-f7c2-4b06-b321-fb2dc5ea97bd",
   "metadata": {},
   "outputs": [],
   "source": [
    "a = np.arange(10)\n",
    "print(f\"a: {a}\")\n",
    "\n",
    "b = a[:5]\n",
    "print(f\"b: {b}\")\n",
    "\n",
    "print(f\"\\nsetting b[0] = 25\")\n",
    "b[0] = 25\n",
    "\n",
    "print(f\"b: {b}\")\n",
    "print(f\"a: {a}\")\n",
    "\n",
    "print(f\"\\nsetting a[1] = 25\")\n",
    "b[1] = 25\n",
    "\n",
    "print(f\"a: {a}\")\n",
    "print(f\"b: {b}\")\n"
   ]
  },
  {
   "cell_type": "markdown",
   "id": "62c69742-d654-4206-93a5-833a8396f0e7",
   "metadata": {},
   "source": [
    "We can see that the two arrays are somehow \"linked\" together, because changing one affects the other one. This is because `b` is a view of the original array `a`"
   ]
  },
  {
   "cell_type": "markdown",
   "id": "52df39b8-3096-4b14-9e2b-6a3f19f66ba4",
   "metadata": {},
   "source": [
    "### Copies\n",
    "\n",
    "As the name suggest, when we create a copy, we are not only creating some new metadata for the same data buffer, but we're actually making a copy of the entire buffer, and the two variables will not be conneced.\n",
    "\n",
    "Let's try it:"
   ]
  },
  {
   "cell_type": "code",
   "execution_count": null,
   "id": "ffe69ac7-7f20-4025-a38b-7341cf032fb7",
   "metadata": {},
   "outputs": [],
   "source": [
    "a = np.arange(16).reshape(4,4)\n",
    "\n",
    "print(f\"a:\\n{a}\")\n",
    "\n",
    "# adding a value to every element forces a copy\n",
    "b = a + 1 \n",
    "\n",
    "print(f\"b:\\n{b}\")\n",
    "\n",
    "print(f\"\\nsetting b[0,0] = 25\")\n",
    "\n",
    "b[0,0] = 25\n",
    "\n",
    "print(f\"b:\\n{b}\")\n",
    "print(f\"a:\\n{a}\")\n",
    "\n",
    "print(f\"\\nsetting a[-1,-1] = 25\")\n",
    "\n",
    "a[-1,-1] = 25\n",
    "\n",
    "print(f\"b:\\n{b}\")\n",
    "print(f\"a:\\n{a}\")\n"
   ]
  },
  {
   "cell_type": "markdown",
   "id": "75a2657f-10f6-4fee-844d-6f30372562f2",
   "metadata": {},
   "source": [
    "To tell whether a particular array is a view or a copy, we can check if the `base` attribute is set to something other than `None`"
   ]
  },
  {
   "cell_type": "code",
   "execution_count": null,
   "id": "acc2097a-c6d3-4f37-b6ab-a8a281d597f7",
   "metadata": {},
   "outputs": [],
   "source": [
    "a = np.arange(10)\n",
    "print(f\"a: {a}\")\n",
    "\n",
    "b = a[:5]\n",
    "print(f\"b: {b}\")\n",
    "print(f\"b.base: {b.base}\")\n",
    "\n",
    "a = np.arange(16).reshape(4,4)\n",
    "\n",
    "print(f\"\\na:\\n{a}\")\n",
    "\n",
    "# adding a value to every element forces a copy\n",
    "b = a + 1 \n",
    "\n",
    "print(f\"b:\\n{b}\")\n",
    "print(f\"b.base: {b.base}\")\n"
   ]
  },
  {
   "cell_type": "markdown",
   "id": "62eab66e-8877-4e47-8fcb-41c14007b0c3",
   "metadata": {},
   "source": [
    "## Introduction to SciPy\n",
    "\n",
    "SciPy is a collection of mathematical algorithms and convenience functions built on top of NumPy. While there is a considerable overlap of functionality between the 2, the usual most recommended workflow is to initialize NumPy arrays, and operate on them using SciPy functions (for details, read [here](https://scipy.org/faq/#what-is-the-difference-between-numpy-and-scipy))"
   ]
  },
  {
   "cell_type": "markdown",
   "id": "53cbfb42-1b6c-4b61-b060-2f3b44f1b8f8",
   "metadata": {},
   "source": [
    "### SciPy operations for this course"
   ]
  },
  {
   "cell_type": "code",
   "execution_count": null,
   "id": "d9293796-9ae6-40e8-86ce-26932aa59979",
   "metadata": {},
   "outputs": [],
   "source": []
  },
  {
   "cell_type": "markdown",
   "id": "c587475a-2037-4ee4-a4bb-8dca2d7a04b7",
   "metadata": {},
   "source": [
    "### SciPy sparse arrays"
   ]
  },
  {
   "cell_type": "code",
   "execution_count": null,
   "id": "39618670-fb3e-4674-a8f9-17570a698ba9",
   "metadata": {},
   "outputs": [],
   "source": []
  },
  {
   "cell_type": "markdown",
   "id": "86640edd-fc99-44bc-9de8-128f9550834a",
   "metadata": {},
   "source": [
    "## Data Types\n",
    "\n",
    "To finalize the tutorial, I want to remind everybody that even though we're using a state-of-the-art piece of software, when we're dealing with real numbers [it is generally impossible to avoid precision errors](https://en.wikipedia.org/wiki/Floating-point_arithmetic). \n",
    "\n",
    "With this in mind, let's have a look at some of the main data types in NumPy, and why they are relevant to us."
   ]
  },
  {
   "cell_type": "code",
   "execution_count": null,
   "id": "ee78fc96-52dd-456e-9e15-c11ac5c76856",
   "metadata": {},
   "outputs": [],
   "source": [
    "rng = default_rng()\n",
    "integer_array = rng.integers(100, size=(3,3))\n",
    "\n",
    "print(f\"integer array:\\n{integer_array}\")\n",
    "\n",
    "float_array = rng.random(size=(3,3))\n",
    "\n",
    "print(f\"float array:\\n{float_array}\")"
   ]
  },
  {
   "cell_type": "markdown",
   "id": "7ddb6b79-08e4-4087-a7be-a94d2d8cc5ae",
   "metadata": {},
   "source": [
    "We just created two arrays with different types, by default, both will use 64-bit representations, so we should get the same numbewr of bytes for each matrix"
   ]
  },
  {
   "cell_type": "code",
   "execution_count": null,
   "id": "347ce142-0a35-4141-9ac6-14d5d94113ed",
   "metadata": {},
   "outputs": [],
   "source": [
    "print(f\"size of integer array: {integer_array.nbytes} bytes\")\n",
    "\n",
    "print(f\"size of float array: {float_array.nbytes} bytes\")"
   ]
  },
  {
   "cell_type": "markdown",
   "id": "70c4fbb8-7b1e-45a6-9e1f-af7452866e9c",
   "metadata": {},
   "source": [
    "For such small matrices, this is quite trivial, but remember that things can grow very quikly and become quadratic very easily. For example, keeping track of connections in a social network of $N$ people will result in an array with shape $N \\times N$. If the links are not directed and there are no self-links, we can store all the data into a data buffer with $\\frac{N(N-1)}{2}$ items, still pretty large.\n",
    "\n",
    "Let's check how much memory we need to store a single graph if we use the defaults:"
   ]
  },
  {
   "cell_type": "code",
   "execution_count": null,
   "id": "7124f3df-534f-4948-bfec-72531e4dbe1a",
   "metadata": {},
   "outputs": [],
   "source": [
    "plot_graph_links_in_bits(64)"
   ]
  },
  {
   "cell_type": "markdown",
   "id": "f60c0230-9661-4eef-8d63-a3599ee0e8af",
   "metadata": {},
   "source": [
    "It's apparent that we run out of memory rather quickly, considering that big data regularly operates on networks of several hundred thousands of nodes, it's pretty obvious we can't ignore this if we're serious about big data.\n",
    "\n",
    "Since our example is to store links, and we can do that using boolean values, let's see the same picture by moving to a smaller representation"
   ]
  },
  {
   "cell_type": "code",
   "execution_count": null,
   "id": "ae733ee4-9289-411f-842f-b2820e07fe05",
   "metadata": {},
   "outputs": [],
   "source": [
    "nbits = np.bool_(True).nbytes * 8"
   ]
  },
  {
   "cell_type": "code",
   "execution_count": null,
   "id": "1669bfde-50b2-40e9-ae59-6190e8624254",
   "metadata": {},
   "outputs": [],
   "source": [
    "plot_graph_links_in_bits(nbits)"
   ]
  },
  {
   "cell_type": "markdown",
   "id": "abe5e0c4-5c6f-43f6-8167-da7058ca4998",
   "metadata": {},
   "source": [
    "Just with that simple change, we can now almost tripled the number of nodes that we can hold in memory (in a dense array)."
   ]
  }
 ],
 "metadata": {
  "kernelspec": {
   "display_name": "Python 3 (ipykernel)",
   "language": "python",
   "name": "python3"
  },
  "language_info": {
   "codemirror_mode": {
    "name": "ipython",
    "version": 3
   },
   "file_extension": ".py",
   "mimetype": "text/x-python",
   "name": "python",
   "nbconvert_exporter": "python",
   "pygments_lexer": "ipython3",
   "version": "3.10.2"
  }
 },
 "nbformat": 4,
 "nbformat_minor": 5
}
