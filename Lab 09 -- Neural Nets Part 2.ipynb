{
 "cells": [
  {
   "cell_type": "code",
   "execution_count": 1,
   "id": "9356bf30-a358-4351-a0bf-9879c39683df",
   "metadata": {},
   "outputs": [],
   "source": [
    "# # Only run this cell if you're using Google Colab\n",
    "\n",
    "# !git clone https://github.com/torresmateo/fgv-class-2022.git"
   ]
  },
  {
   "cell_type": "markdown",
   "id": "02e7f1ff-c598-4411-93ab-696fdb956abc",
   "metadata": {},
   "source": [
    "# Part 2 of the Neural Network Lab\n",
    "\n",
    "This file is the solution from the last lab, but it's the starting point for the second part, where you will implement the backward pass (using the backpropagation algorithm described in class). Many aspects of Part 1 are completely different from the previous lab, but the forward pass is basically the same."
   ]
  },
  {
   "cell_type": "code",
   "execution_count": 2,
   "id": "5e1c7db8-c8c1-4104-a180-0109771fbf29",
   "metadata": {},
   "outputs": [],
   "source": [
    "import numpy as np\n",
    "import matplotlib.pyplot as plt\n",
    "import seaborn as sns"
   ]
  },
  {
   "cell_type": "markdown",
   "id": "bd289682-e16e-4e76-9ebb-78fd6e147959",
   "metadata": {
    "tags": []
   },
   "source": [
    "# Implement a simple 2-layer network \n",
    "\n",
    "1. Use `scikit-learn` to generate a binary classification problem dataset with:\n",
    "\n",
    "    * 1000 samples\n",
    "    * 5 features\n",
    "    * (optional) I used random state 1\n",
    "\n",
    "2. Split the dataset into training and testing (I used 30% of the data for testing)\n",
    "3. Implement the activation functions and their derivative. The cost function should be adequate for the binary classification problem (check the slides)"
   ]
  },
  {
   "cell_type": "code",
   "execution_count": 3,
   "id": "ecbeaf09-b880-4d25-8dbe-1f74930874ff",
   "metadata": {},
   "outputs": [],
   "source": [
    "# import modules here\n",
    "from sklearn.datasets import  make_classification\n",
    "from sklearn.model_selection import train_test_split\n",
    "from rich.progress import track"
   ]
  },
  {
   "cell_type": "code",
   "execution_count": 4,
   "id": "f71dfbf5-06c4-4934-83d8-269fe1e21e0a",
   "metadata": {},
   "outputs": [],
   "source": [
    "# 1 generate the data\n",
    "    #your code here\n",
    "\n",
    "# 2 split the data\n",
    "    #your code here\n",
    "\n",
    "# 3 implement the activation and cost functions\n",
    "def sigmoid(Z):\n",
    "    #your code here\n",
    "\n",
    "def sigmoid_derivative(output):\n",
    "    #your code here\n",
    "\n",
    "def cost_function(y, y_hat):\n",
    "    #your code here\n",
    "\n",
    "def cost_gradient(y, y_hat):\n",
    "    #your code here\n"
   ]
  },
  {
   "cell_type": "markdown",
   "id": "53a90703-96df-4bc9-8e07-e533f10d1659",
   "metadata": {},
   "source": [
    "Implement `TwoLayerPerceptronClassifier` with the forward and backward passes.\n",
    "\n",
    "The class must implement the scikit-learn estimator API. Bear in mind that the `fit` function should handle the training, and the `predict` function should NOT update the parameters of the model.\n",
    "\n",
    "TIPS: \n",
    "* Make your implementation of the forward and backward passes explicit so it is easier to implement.\n",
    "* Use the `rich` library to plot a progress bar of the training epochs\n",
    "* I strongly suggest you study backprop **before** attempting to implement the estimator. You can revise the slides or the Bishop book. If you prefer videos, a resource I like a lot is the 3Blue1Brown video series of this on YouTube. [Here](https://youtube.com/playlist?list=PLZHQObOWTQDNU6R1_67000Dx_ZCJB-3pi) is a link to the playlist.\n",
    "* Remember to calculate the mean of the mini-batch delta (remember that the size of the dataset might not be divisible by the batch size)\n",
    "* You don't need to use ALL the data to test your code. If it works with 10 datapoints in two mini-batches, it will also work on a massive dataset with thousands of minibatches. Testing on small data is faster.\n",
    "* You may structure your code however you want. But I suggest:\n",
    "    * implement the forward and backward passes separately\n",
    "    * if you implement the computations using vectors, the training is faster (but feel free to use a for loop if that simplifies your life)\n"
   ]
  },
  {
   "cell_type": "code",
   "execution_count": 5,
   "id": "c4cb2710-452a-4daf-adcc-c429fc975c3b",
   "metadata": {},
   "outputs": [],
   "source": [
    "from sklearn.base import BaseEstimator, ClassifierMixin\n",
    "from sklearn.utils.estimator_checks import check_estimator\n",
    "from sklearn.utils.validation import check_X_y, check_array, check_is_fitted\n",
    "\n",
    "def print_dim(name, var):\n",
    "    print(f\"{name} = {var.shape}\")\n",
    "\n",
    "class TwoLayerPerceptronClassifier(BaseEstimator, ClassifierMixin):\n",
    "    \"\"\"\n",
    "    A fully connected 2-layer perceptron for binary classification.\n",
    "    \n",
    "    Parameters\n",
    "    ----------\n",
    "    size_hidden : int\n",
    "        The size of the hidden layer\n",
    "    epochs : int\n",
    "        The number of epochs to train the model\n",
    "    leargning_rate : float\n",
    "        The learning rate for the gradient descent\n",
    "    batch_size : int, default 50\n",
    "        The number of datapoints in each mini-batch\n",
    "    random_state : random_state, default None\n",
    "        a numpy random state for reproducibility. If None (default)\n",
    "        The default numpy random generator with seed 0 will be used\n",
    "\n",
    "    Attributes\n",
    "    ----------\n",
    "    _W0 : ndarray\n",
    "        to store the weights from the input layer to the hidden layer\n",
    "    _W1 : ndarray\n",
    "        to store the weights from the hidden layer to the output layer\n",
    "    Z1 : ndarray\n",
    "        to store the linear part of the hidden layer\n",
    "    A1 : ndarray\n",
    "        to store the linear activation of the hidden layer\n",
    "    Z2 : ndarray\n",
    "        to store the non-linear part of the output layer\n",
    "    A2 : ndarray\n",
    "        to store the linear activation of the output layer\n",
    "        (this is the output of the model)\n",
    "        \n",
    "    training_losses : ndarray\n",
    "        holds the value of the lost function for the training set at\n",
    "        each epoch\n",
    "    \n",
    "    Notes\n",
    "    -----\n",
    "    This implementation initializes the weights using a random Gaussian\n",
    "    distribution with mean 0 and standard deviation 0.001\n",
    "    \"\"\"\n",
    "    def __init__(self, \n",
    "                 size_hidden, \n",
    "                 epochs, \n",
    "                 learning_rate, \n",
    "                 batch_size, \n",
    "                 random_state=None):\n",
    "        # your code here\n",
    "\n",
    "    def fit(self, X, y):\n",
    "        # your code here\n",
    "        self.fitted_ = True\n",
    "    \n",
    "    def predict(self, X):\n",
    "        # your code here\n",
    "    \n",
    "    \n",
    "    def predict_proba(self, X):\n",
    "        # optional, but useful for the coursework\n",
    "        # your code here"
   ]
  },
  {
   "cell_type": "code",
   "execution_count": 6,
   "id": "f4863456-de0c-4279-a2c0-69ed65b3dad9",
   "metadata": {},
   "outputs": [
    {
     "data": {
      "text/html": [
       "<pre style=\"white-space:pre;overflow-x:auto;line-height:normal;font-family:Menlo,'DejaVu Sans Mono',consolas,'Courier New',monospace\">Training... <span style=\"color: #729c1f; text-decoration-color: #729c1f\">━━━━━━━━━━━━━━━━━━━━━━━━━━━━━━━━━━━━━━━━</span> <span style=\"color: #800080; text-decoration-color: #800080\">100%</span> <span style=\"color: #008080; text-decoration-color: #008080\">0:00:00</span>\n",
       "</pre>\n"
      ],
      "text/plain": [
       "Training... \u001b[38;2;114;156;31m━━━━━━━━━━━━━━━━━━━━━━━━━━━━━━━━━━━━━━━━\u001b[0m \u001b[35m100%\u001b[0m \u001b[36m0:00:00\u001b[0m\n"
      ]
     },
     "metadata": {},
     "output_type": "display_data"
    },
    {
     "data": {
      "text/html": [
       "<pre style=\"white-space:pre;overflow-x:auto;line-height:normal;font-family:Menlo,'DejaVu Sans Mono',consolas,'Courier New',monospace\"></pre>\n"
      ],
      "text/plain": []
     },
     "metadata": {},
     "output_type": "display_data"
    },
    {
     "data": {
      "text/html": [
       "<pre style=\"white-space:pre;overflow-x:auto;line-height:normal;font-family:Menlo,'DejaVu Sans Mono',consolas,'Courier New',monospace\">\n",
       "</pre>\n"
      ],
      "text/plain": [
       "\n"
      ]
     },
     "metadata": {},
     "output_type": "display_data"
    }
   ],
   "source": [
    "model = TwoLayerPerceptronClassifier(3, 1000, 0.001, 5)\n",
    "model.fit(X_train, y_train)"
   ]
  },
  {
   "cell_type": "markdown",
   "id": "8025ebc9-b846-4986-90b0-7490bf28ad47",
   "metadata": {},
   "source": [
    "use the stored variables to plot the evolution of the training"
   ]
  },
  {
   "cell_type": "code",
   "execution_count": 7,
   "id": "f43b1276-871e-4243-981e-eb7e60ef1902",
   "metadata": {},
   "outputs": [
    {
     "data": {
      "image/png": "[encoded data removed]",
      "text/plain": [
       "<Figure size 720x720 with 1 Axes>"
      ]
     },
     "metadata": {
      "needs_background": "light"
     },
     "output_type": "display_data"
    }
   ],
   "source": [
    "# your code here"
   ]
  },
  {
   "cell_type": "markdown",
   "id": "8e6d2768-3704-440a-aae0-455cf8e7bf39",
   "metadata": {},
   "source": [
    "use the `classification_report` function from scikit-learn to analyze the performance of the trained model on the test set"
   ]
  },
  {
   "cell_type": "code",
   "execution_count": 8,
   "id": "6794eccb-cd9a-4c95-aecd-8f5b183d93eb",
   "metadata": {},
   "outputs": [
    {
     "name": "stdout",
     "output_type": "stream",
     "text": [
      "              precision    recall  f1-score   support\n",
      "\n",
      "           0       0.95      0.98      0.96       148\n",
      "           1       0.98      0.95      0.96       152\n",
      "\n",
      "    accuracy                           0.96       300\n",
      "   macro avg       0.96      0.96      0.96       300\n",
      "weighted avg       0.96      0.96      0.96       300\n",
      "\n"
     ]
    }
   ],
   "source": [
    "# your code here"
   ]
  },
  {
   "cell_type": "markdown",
   "id": "acecf15d-ff71-4d6a-a993-9ef92fbfc1be",
   "metadata": {},
   "source": [
    "# Part 2 -- Computation Graphs \n",
    "Part 1 is hard enough... submit it to e-class, and I will decide on whether to use the automatic differentiation implementation for the coursework."
   ]
  }
 ],
 "metadata": {
  "kernelspec": {
   "display_name": "Python 3 (ipykernel)",
   "language": "python",
   "name": "python3"
  },
  "language_info": {
   "codemirror_mode": {
    "name": "ipython",
    "version": 3
   },
   "file_extension": ".py",
   "mimetype": "text/x-python",
   "name": "python",
   "nbconvert_exporter": "python",
   "pygments_lexer": "ipython3",
   "version": "3.10.2"
  }
 },
 "nbformat": 4,
 "nbformat_minor": 5
}
